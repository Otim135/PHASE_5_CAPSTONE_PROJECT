{
 "cells": [
  {
   "cell_type": "markdown",
   "metadata": {},
   "source": [
    "# RAINFALL PREDICTION USING MACHINE LEARNING"
   ]
  },
  {
   "cell_type": "markdown",
   "metadata": {},
   "source": [
    "## DATA PREVIEW"
   ]
  },
  {
   "cell_type": "code",
   "execution_count": 2,
   "metadata": {},
   "outputs": [],
   "source": [
    "#Importing libraries used for reading data and data visualization\n",
    "import pandas as pd\n",
    "import numpy as np\n",
    "import matplotlib.pyplot as plt\n",
    "import seaborn as sns"
   ]
  },
  {
   "cell_type": "code",
   "execution_count": 3,
   "metadata": {},
   "outputs": [
    {
     "name": "stdout",
     "output_type": "stream",
     "text": [
      "   id  day  pressure  maxtemp  temparature  mintemp  dewpoint  humidity  \\\n",
      "0   0    1    1017.4     21.2         20.6     19.9      19.4      87.0   \n",
      "1   1    2    1019.5     16.2         16.9     15.8      15.4      95.0   \n",
      "2   2    3    1024.1     19.4         16.1     14.6       9.3      75.0   \n",
      "3   3    4    1013.4     18.1         17.8     16.9      16.8      95.0   \n",
      "4   4    5    1021.8     21.3         18.4     15.2       9.6      52.0   \n",
      "\n",
      "   cloud  sunshine  winddirection  windspeed  rainfall  \n",
      "0   88.0       1.1           60.0       17.2         1  \n",
      "1   91.0       0.0           50.0       21.9         1  \n",
      "2   47.0       8.3           70.0       18.1         1  \n",
      "3   95.0       0.0           60.0       35.6         1  \n",
      "4   45.0       3.6           40.0       24.8         0  \n"
     ]
    }
   ],
   "source": [
    "#Reading the CSV file\n",
    "# Corrected file path and delimiter usage\n",
    "train_data = pd.read_csv(r\"C:\\Users\\USER\\Downloads\\PHASE_5_CAPSTONE_PROJECT\\Data\\train.csv\", delimiter=\",\", encoding=\"utf-8\")\n",
    "\n",
    "# Display the first few rows to verify the data\n",
    "print(train_data.head())\n"
   ]
  },
  {
   "cell_type": "code",
   "execution_count": 4,
   "metadata": {},
   "outputs": [
    {
     "data": {
      "text/plain": [
       "Index(['id', 'day', 'pressure', 'maxtemp', 'temparature', 'mintemp',\n",
       "       'dewpoint', 'humidity', 'cloud', 'sunshine', 'winddirection',\n",
       "       'windspeed', 'rainfall'],\n",
       "      dtype='object')"
      ]
     },
     "execution_count": 4,
     "metadata": {},
     "output_type": "execute_result"
    }
   ],
   "source": [
    "#Looking at the column headings in the train data\n",
    "train_data.columns"
   ]
  },
  {
   "cell_type": "code",
   "execution_count": 5,
   "metadata": {},
   "outputs": [
    {
     "name": "stdout",
     "output_type": "stream",
     "text": [
      "<class 'pandas.core.frame.DataFrame'>\n",
      "RangeIndex: 2190 entries, 0 to 2189\n",
      "Columns: 13 entries, id to rainfall\n",
      "dtypes: float64(10), int64(3)\n",
      "memory usage: 222.6 KB\n"
     ]
    }
   ],
   "source": [
    "#Checking the summary of the dataframe\n",
    "train_data.info(verbose=False)"
   ]
  },
  {
   "cell_type": "code",
   "execution_count": 6,
   "metadata": {},
   "outputs": [
    {
     "data": {
      "text/plain": [
       "id                 int64\n",
       "day                int64\n",
       "pressure         float64\n",
       "maxtemp          float64\n",
       "temparature      float64\n",
       "mintemp          float64\n",
       "dewpoint         float64\n",
       "humidity         float64\n",
       "cloud            float64\n",
       "sunshine         float64\n",
       "winddirection    float64\n",
       "windspeed        float64\n",
       "rainfall           int64\n",
       "dtype: object"
      ]
     },
     "execution_count": 6,
     "metadata": {},
     "output_type": "execute_result"
    }
   ],
   "source": [
    "#Checking the data types in our data set\n",
    "train_data.dtypes"
   ]
  },
  {
   "cell_type": "code",
   "execution_count": 7,
   "metadata": {},
   "outputs": [
    {
     "data": {
      "text/html": [
       "<div>\n",
       "<style scoped>\n",
       "    .dataframe tbody tr th:only-of-type {\n",
       "        vertical-align: middle;\n",
       "    }\n",
       "\n",
       "    .dataframe tbody tr th {\n",
       "        vertical-align: top;\n",
       "    }\n",
       "\n",
       "    .dataframe thead th {\n",
       "        text-align: right;\n",
       "    }\n",
       "</style>\n",
       "<table border=\"1\" class=\"dataframe\">\n",
       "  <thead>\n",
       "    <tr style=\"text-align: right;\">\n",
       "      <th></th>\n",
       "      <th>count</th>\n",
       "      <th>mean</th>\n",
       "      <th>std</th>\n",
       "      <th>min</th>\n",
       "      <th>25%</th>\n",
       "      <th>50%</th>\n",
       "      <th>75%</th>\n",
       "      <th>max</th>\n",
       "    </tr>\n",
       "  </thead>\n",
       "  <tbody>\n",
       "    <tr>\n",
       "      <th>id</th>\n",
       "      <td>2190.0</td>\n",
       "      <td>1094.500000</td>\n",
       "      <td>632.342866</td>\n",
       "      <td>0.0</td>\n",
       "      <td>547.250</td>\n",
       "      <td>1094.50</td>\n",
       "      <td>1641.750</td>\n",
       "      <td>2189.0</td>\n",
       "    </tr>\n",
       "    <tr>\n",
       "      <th>day</th>\n",
       "      <td>2190.0</td>\n",
       "      <td>179.948402</td>\n",
       "      <td>105.203592</td>\n",
       "      <td>1.0</td>\n",
       "      <td>89.000</td>\n",
       "      <td>178.50</td>\n",
       "      <td>270.000</td>\n",
       "      <td>365.0</td>\n",
       "    </tr>\n",
       "    <tr>\n",
       "      <th>pressure</th>\n",
       "      <td>2190.0</td>\n",
       "      <td>1013.602146</td>\n",
       "      <td>5.655366</td>\n",
       "      <td>999.0</td>\n",
       "      <td>1008.600</td>\n",
       "      <td>1013.00</td>\n",
       "      <td>1017.775</td>\n",
       "      <td>1034.6</td>\n",
       "    </tr>\n",
       "    <tr>\n",
       "      <th>maxtemp</th>\n",
       "      <td>2190.0</td>\n",
       "      <td>26.365799</td>\n",
       "      <td>5.654330</td>\n",
       "      <td>10.4</td>\n",
       "      <td>21.300</td>\n",
       "      <td>27.80</td>\n",
       "      <td>31.200</td>\n",
       "      <td>36.0</td>\n",
       "    </tr>\n",
       "    <tr>\n",
       "      <th>temparature</th>\n",
       "      <td>2190.0</td>\n",
       "      <td>23.953059</td>\n",
       "      <td>5.222410</td>\n",
       "      <td>7.4</td>\n",
       "      <td>19.300</td>\n",
       "      <td>25.50</td>\n",
       "      <td>28.400</td>\n",
       "      <td>31.5</td>\n",
       "    </tr>\n",
       "    <tr>\n",
       "      <th>mintemp</th>\n",
       "      <td>2190.0</td>\n",
       "      <td>22.170091</td>\n",
       "      <td>5.059120</td>\n",
       "      <td>4.0</td>\n",
       "      <td>17.700</td>\n",
       "      <td>23.85</td>\n",
       "      <td>26.400</td>\n",
       "      <td>29.8</td>\n",
       "    </tr>\n",
       "    <tr>\n",
       "      <th>dewpoint</th>\n",
       "      <td>2190.0</td>\n",
       "      <td>20.454566</td>\n",
       "      <td>5.288406</td>\n",
       "      <td>-0.3</td>\n",
       "      <td>16.800</td>\n",
       "      <td>22.15</td>\n",
       "      <td>25.000</td>\n",
       "      <td>26.7</td>\n",
       "    </tr>\n",
       "    <tr>\n",
       "      <th>humidity</th>\n",
       "      <td>2190.0</td>\n",
       "      <td>82.036530</td>\n",
       "      <td>7.800654</td>\n",
       "      <td>39.0</td>\n",
       "      <td>77.000</td>\n",
       "      <td>82.00</td>\n",
       "      <td>88.000</td>\n",
       "      <td>98.0</td>\n",
       "    </tr>\n",
       "    <tr>\n",
       "      <th>cloud</th>\n",
       "      <td>2190.0</td>\n",
       "      <td>75.721918</td>\n",
       "      <td>18.026498</td>\n",
       "      <td>2.0</td>\n",
       "      <td>69.000</td>\n",
       "      <td>83.00</td>\n",
       "      <td>88.000</td>\n",
       "      <td>100.0</td>\n",
       "    </tr>\n",
       "    <tr>\n",
       "      <th>sunshine</th>\n",
       "      <td>2190.0</td>\n",
       "      <td>3.744429</td>\n",
       "      <td>3.626327</td>\n",
       "      <td>0.0</td>\n",
       "      <td>0.400</td>\n",
       "      <td>2.40</td>\n",
       "      <td>6.800</td>\n",
       "      <td>12.1</td>\n",
       "    </tr>\n",
       "    <tr>\n",
       "      <th>winddirection</th>\n",
       "      <td>2190.0</td>\n",
       "      <td>104.863151</td>\n",
       "      <td>80.002416</td>\n",
       "      <td>10.0</td>\n",
       "      <td>40.000</td>\n",
       "      <td>70.00</td>\n",
       "      <td>200.000</td>\n",
       "      <td>300.0</td>\n",
       "    </tr>\n",
       "    <tr>\n",
       "      <th>windspeed</th>\n",
       "      <td>2190.0</td>\n",
       "      <td>21.804703</td>\n",
       "      <td>9.898659</td>\n",
       "      <td>4.4</td>\n",
       "      <td>14.125</td>\n",
       "      <td>20.50</td>\n",
       "      <td>27.900</td>\n",
       "      <td>59.5</td>\n",
       "    </tr>\n",
       "    <tr>\n",
       "      <th>rainfall</th>\n",
       "      <td>2190.0</td>\n",
       "      <td>0.753425</td>\n",
       "      <td>0.431116</td>\n",
       "      <td>0.0</td>\n",
       "      <td>1.000</td>\n",
       "      <td>1.00</td>\n",
       "      <td>1.000</td>\n",
       "      <td>1.0</td>\n",
       "    </tr>\n",
       "  </tbody>\n",
       "</table>\n",
       "</div>"
      ],
      "text/plain": [
       "                count         mean         std    min       25%      50%  \\\n",
       "id             2190.0  1094.500000  632.342866    0.0   547.250  1094.50   \n",
       "day            2190.0   179.948402  105.203592    1.0    89.000   178.50   \n",
       "pressure       2190.0  1013.602146    5.655366  999.0  1008.600  1013.00   \n",
       "maxtemp        2190.0    26.365799    5.654330   10.4    21.300    27.80   \n",
       "temparature    2190.0    23.953059    5.222410    7.4    19.300    25.50   \n",
       "mintemp        2190.0    22.170091    5.059120    4.0    17.700    23.85   \n",
       "dewpoint       2190.0    20.454566    5.288406   -0.3    16.800    22.15   \n",
       "humidity       2190.0    82.036530    7.800654   39.0    77.000    82.00   \n",
       "cloud          2190.0    75.721918   18.026498    2.0    69.000    83.00   \n",
       "sunshine       2190.0     3.744429    3.626327    0.0     0.400     2.40   \n",
       "winddirection  2190.0   104.863151   80.002416   10.0    40.000    70.00   \n",
       "windspeed      2190.0    21.804703    9.898659    4.4    14.125    20.50   \n",
       "rainfall       2190.0     0.753425    0.431116    0.0     1.000     1.00   \n",
       "\n",
       "                    75%     max  \n",
       "id             1641.750  2189.0  \n",
       "day             270.000   365.0  \n",
       "pressure       1017.775  1034.6  \n",
       "maxtemp          31.200    36.0  \n",
       "temparature      28.400    31.5  \n",
       "mintemp          26.400    29.8  \n",
       "dewpoint         25.000    26.7  \n",
       "humidity         88.000    98.0  \n",
       "cloud            88.000   100.0  \n",
       "sunshine          6.800    12.1  \n",
       "winddirection   200.000   300.0  \n",
       "windspeed        27.900    59.5  \n",
       "rainfall          1.000     1.0  "
      ]
     },
     "execution_count": 7,
     "metadata": {},
     "output_type": "execute_result"
    }
   ],
   "source": [
    "#Checking descriptive statistics in our data\n",
    "train_data.describe().T"
   ]
  },
  {
   "cell_type": "code",
   "execution_count": 8,
   "metadata": {},
   "outputs": [
    {
     "data": {
      "text/plain": [
       "(2190, 13)"
      ]
     },
     "execution_count": 8,
     "metadata": {},
     "output_type": "execute_result"
    }
   ],
   "source": [
    "#Checking the number of rows and columns respectively in our dataset\n",
    "train_data.shape"
   ]
  },
  {
   "cell_type": "markdown",
   "metadata": {},
   "source": [
    "## DATA CLEANING"
   ]
  },
  {
   "cell_type": "markdown",
   "metadata": {},
   "source": [
    "CHECKING FOR NULL VALUES"
   ]
  },
  {
   "cell_type": "code",
   "execution_count": 11,
   "metadata": {},
   "outputs": [
    {
     "data": {
      "text/plain": [
       "id               0\n",
       "day              0\n",
       "pressure         0\n",
       "maxtemp          0\n",
       "temparature      0\n",
       "mintemp          0\n",
       "dewpoint         0\n",
       "humidity         0\n",
       "cloud            0\n",
       "sunshine         0\n",
       "winddirection    0\n",
       "windspeed        0\n",
       "rainfall         0\n",
       "dtype: int64"
      ]
     },
     "execution_count": 11,
     "metadata": {},
     "output_type": "execute_result"
    }
   ],
   "source": [
    "#Checking for null values\n",
    "train_data.isnull().sum()\n",
    "#We can clearly see we have no null values in the train dataset"
   ]
  },
  {
   "cell_type": "markdown",
   "metadata": {},
   "source": [
    "CHECKING FOR DUPLICATED ROWS"
   ]
  },
  {
   "cell_type": "code",
   "execution_count": 14,
   "metadata": {},
   "outputs": [
    {
     "data": {
      "text/plain": [
       "0"
      ]
     },
     "execution_count": 14,
     "metadata": {},
     "output_type": "execute_result"
    }
   ],
   "source": [
    "#We have no duplicated rows\n",
    "train_data.duplicated().sum()"
   ]
  },
  {
   "cell_type": "markdown",
   "metadata": {},
   "source": [
    "CHECKING FOR OUTLIERS"
   ]
  },
  {
   "cell_type": "code",
   "execution_count": 20,
   "metadata": {},
   "outputs": [
    {
     "data": {
      "text/plain": [
       "Index(['id', 'day', 'pressure', 'maxtemp', 'temparature', 'mintemp',\n",
       "       'dewpoint', 'humidity', 'cloud', 'sunshine', 'winddirection',\n",
       "       'windspeed', 'rainfall'],\n",
       "      dtype='object')"
      ]
     },
     "execution_count": 20,
     "metadata": {},
     "output_type": "execute_result"
    }
   ],
   "source": [
    "numerical_cols = train_data.select_dtypes(include=[np.number]).columns\n",
    "numerical_cols"
   ]
  },
  {
   "cell_type": "code",
   "execution_count": 21,
   "metadata": {},
   "outputs": [
    {
     "ename": "TypeError",
     "evalue": "data type 'pressure' not understood",
     "output_type": "error",
     "traceback": [
      "\u001b[1;31m---------------------------------------------------------------------------\u001b[0m",
      "\u001b[1;31mTypeError\u001b[0m                                 Traceback (most recent call last)",
      "Cell \u001b[1;32mIn[21], line 2\u001b[0m\n\u001b[0;32m      1\u001b[0m \u001b[38;5;66;03m# Select only numerical columns\u001b[39;00m\n\u001b[1;32m----> 2\u001b[0m num_cols \u001b[38;5;241m=\u001b[39m train_data\u001b[38;5;241m.\u001b[39mselect_dtypes(include\u001b[38;5;241m=\u001b[39m[\u001b[38;5;124m\"\u001b[39m\u001b[38;5;124mpressure\u001b[39m\u001b[38;5;124m\"\u001b[39m,\u001b[38;5;124m\"\u001b[39m\u001b[38;5;124mmaxtemp\u001b[39m\u001b[38;5;124m\"\u001b[39m,\u001b[38;5;124m\"\u001b[39m\u001b[38;5;124mtemparature\u001b[39m\u001b[38;5;124m\"\u001b[39m,\u001b[38;5;124m\"\u001b[39m\u001b[38;5;124mmintemp \u001b[39m\u001b[38;5;124m\"\u001b[39m,\u001b[38;5;124m\"\u001b[39m\u001b[38;5;124mdewpoint\u001b[39m\u001b[38;5;124m\"\u001b[39m,\u001b[38;5;124m\"\u001b[39m\u001b[38;5;124mhumidity\u001b[39m\u001b[38;5;124m\"\u001b[39m,\u001b[38;5;124m\"\u001b[39m\u001b[38;5;124mcloud\u001b[39m\u001b[38;5;124m\"\u001b[39m,\u001b[38;5;124m\"\u001b[39m\u001b[38;5;124msunshine\u001b[39m\u001b[38;5;124m\"\u001b[39m,\u001b[38;5;124m\"\u001b[39m\u001b[38;5;124mwinddirection\u001b[39m\u001b[38;5;124m\"\u001b[39m,\u001b[38;5;124m\"\u001b[39m\u001b[38;5;124mwindspeed\u001b[39m\u001b[38;5;124m\"\u001b[39m,\u001b[38;5;124m\"\u001b[39m\u001b[38;5;124mrainfall\u001b[39m\u001b[38;5;124m\"\u001b[39m])         \n\u001b[0;32m      4\u001b[0m \u001b[38;5;66;03m# Plot boxplots for all numerical columns\u001b[39;00m\n\u001b[0;32m      5\u001b[0m plt\u001b[38;5;241m.\u001b[39mfigure(figsize\u001b[38;5;241m=\u001b[39m(\u001b[38;5;241m12\u001b[39m, \u001b[38;5;241m6\u001b[39m))\n",
      "File \u001b[1;32mc:\\Users\\USER\\anaconda3\\Lib\\site-packages\\pandas\\core\\frame.py:4836\u001b[0m, in \u001b[0;36mDataFrame.select_dtypes\u001b[1;34m(self, include, exclude)\u001b[0m\n\u001b[0;32m   4833\u001b[0m             converted_dtypes\u001b[38;5;241m.\u001b[39mappend(infer_dtype_from_object(dtype))\n\u001b[0;32m   4834\u001b[0m     \u001b[38;5;28;01mreturn\u001b[39;00m \u001b[38;5;28mfrozenset\u001b[39m(converted_dtypes)\n\u001b[1;32m-> 4836\u001b[0m include \u001b[38;5;241m=\u001b[39m check_int_infer_dtype(include)\n\u001b[0;32m   4837\u001b[0m exclude \u001b[38;5;241m=\u001b[39m check_int_infer_dtype(exclude)\n\u001b[0;32m   4839\u001b[0m \u001b[38;5;28;01mfor\u001b[39;00m dtypes \u001b[38;5;129;01min\u001b[39;00m (include, exclude):\n",
      "File \u001b[1;32mc:\\Users\\USER\\anaconda3\\Lib\\site-packages\\pandas\\core\\frame.py:4833\u001b[0m, in \u001b[0;36mDataFrame.select_dtypes.<locals>.check_int_infer_dtype\u001b[1;34m(dtypes)\u001b[0m\n\u001b[0;32m   4831\u001b[0m         converted_dtypes\u001b[38;5;241m.\u001b[39mextend([np\u001b[38;5;241m.\u001b[39mfloat64, np\u001b[38;5;241m.\u001b[39mfloat32])\n\u001b[0;32m   4832\u001b[0m     \u001b[38;5;28;01melse\u001b[39;00m:\n\u001b[1;32m-> 4833\u001b[0m         converted_dtypes\u001b[38;5;241m.\u001b[39mappend(infer_dtype_from_object(dtype))\n\u001b[0;32m   4834\u001b[0m \u001b[38;5;28;01mreturn\u001b[39;00m \u001b[38;5;28mfrozenset\u001b[39m(converted_dtypes)\n",
      "File \u001b[1;32mc:\\Users\\USER\\anaconda3\\Lib\\site-packages\\pandas\\core\\dtypes\\common.py:1533\u001b[0m, in \u001b[0;36minfer_dtype_from_object\u001b[1;34m(dtype)\u001b[0m\n\u001b[0;32m   1524\u001b[0m     \u001b[38;5;28;01mexcept\u001b[39;00m (\u001b[38;5;167;01mAttributeError\u001b[39;00m, \u001b[38;5;167;01mTypeError\u001b[39;00m):\n\u001b[0;32m   1525\u001b[0m         \u001b[38;5;66;03m# Handles cases like _get_dtype(int) i.e.,\u001b[39;00m\n\u001b[0;32m   1526\u001b[0m         \u001b[38;5;66;03m# Python objects that are valid dtypes\u001b[39;00m\n\u001b[1;32m   (...)\u001b[0m\n\u001b[0;32m   1529\u001b[0m         \u001b[38;5;66;03m# TypeError handles the float16 type code of 'e'\u001b[39;00m\n\u001b[0;32m   1530\u001b[0m         \u001b[38;5;66;03m# further handle internal types\u001b[39;00m\n\u001b[0;32m   1531\u001b[0m         \u001b[38;5;28;01mpass\u001b[39;00m\n\u001b[1;32m-> 1533\u001b[0m \u001b[38;5;28;01mreturn\u001b[39;00m infer_dtype_from_object(np\u001b[38;5;241m.\u001b[39mdtype(dtype))\n",
      "\u001b[1;31mTypeError\u001b[0m: data type 'pressure' not understood"
     ]
    }
   ],
   "source": [
    "# Select only numerical columns\n",
    "num_cols = train_data.select_dtypes(include=[\"pressure\",\"maxtemp\",\"temparature\",\"mintemp \",\"dewpoint\",\"humidity\",\"cloud\",\"sunshine\",\"winddirection\",\"windspeed\",\"rainfall\"])         \n",
    "\n",
    "# Plot boxplots for all numerical columns\n",
    "plt.figure(figsize=(12, 6))\n",
    "train_data[numerical_cols].boxplot(rot=45)  # Rotate labels for readability\n",
    "plt.title(\"Boxplot of Numerical Features\")\n",
    "plt.show()\n"
   ]
  },
  {
   "cell_type": "code",
   "execution_count": null,
   "metadata": {},
   "outputs": [],
   "source": []
  }
 ],
 "metadata": {
  "kernelspec": {
   "display_name": "Python (learn-env)",
   "language": "python",
   "name": "learn-env"
  },
  "language_info": {
   "codemirror_mode": {
    "name": "ipython",
    "version": 3
   },
   "file_extension": ".py",
   "mimetype": "text/x-python",
   "name": "python",
   "nbconvert_exporter": "python",
   "pygments_lexer": "ipython3",
   "version": "3.11.7"
  }
 },
 "nbformat": 4,
 "nbformat_minor": 2
}
